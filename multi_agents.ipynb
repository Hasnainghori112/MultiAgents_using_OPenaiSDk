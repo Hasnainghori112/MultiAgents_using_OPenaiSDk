{
  "nbformat": 4,
  "nbformat_minor": 0,
  "metadata": {
    "colab": {
      "provenance": [],
      "toc_visible": true,
      "authorship_tag": "ABX9TyNxVtZbA0XFmx85cRsDvgbI",
      "include_colab_link": true
    },
    "kernelspec": {
      "name": "python3",
      "display_name": "Python 3"
    },
    "language_info": {
      "name": "python"
    }
  },
  "cells": [
    {
      "cell_type": "markdown",
      "metadata": {
        "id": "view-in-github",
        "colab_type": "text"
      },
      "source": [
        "<a href=\"https://colab.research.google.com/github/Hasnainghori112/MultiAgents_using_OPenaiSDk/blob/main/multi_agents.ipynb\" target=\"_parent\"><img src=\"https://colab.research.google.com/assets/colab-badge.svg\" alt=\"Open In Colab\"/></a>"
      ]
    },
    {
      "cell_type": "code",
      "execution_count": null,
      "metadata": {
        "colab": {
          "base_uri": "https://localhost:8080/"
        },
        "collapsed": true,
        "id": "44AbB29o0YT5",
        "outputId": "531578d5-3b61-458e-efc6-88d524abfc91"
      },
      "outputs": [
        {
          "output_type": "stream",
          "name": "stdout",
          "text": [
            "\u001b[?25l   \u001b[90m━━━━━━━━━━━━━━━━━━━━━━━━━━━━━━━━━━━━━━━━\u001b[0m \u001b[32m0.0/116.9 kB\u001b[0m \u001b[31m?\u001b[0m eta \u001b[36m-:--:--\u001b[0m\r\u001b[2K   \u001b[91m━━━━━━━━━━━━━━━━━━━━━━━━━━━━━━━━━━━━━\u001b[0m\u001b[91m╸\u001b[0m\u001b[90m━\u001b[0m \u001b[32m112.6/116.9 kB\u001b[0m \u001b[31m108.0 MB/s\u001b[0m eta \u001b[36m0:00:01\u001b[0m\r\u001b[2K   \u001b[90m━━━━━━━━━━━━━━━━━━━━━━━━━━━━━━━━━━━━━━━━\u001b[0m \u001b[32m116.9/116.9 kB\u001b[0m \u001b[31m2.4 MB/s\u001b[0m eta \u001b[36m0:00:00\u001b[0m\n",
            "\u001b[2K   \u001b[90m━━━━━━━━━━━━━━━━━━━━━━━━━━━━━━━━━━━━━━━━\u001b[0m \u001b[32m129.3/129.3 kB\u001b[0m \u001b[31m4.9 MB/s\u001b[0m eta \u001b[36m0:00:00\u001b[0m\n",
            "\u001b[2K   \u001b[90m━━━━━━━━━━━━━━━━━━━━━━━━━━━━━━━━━━━━━━━━\u001b[0m \u001b[32m100.4/100.4 kB\u001b[0m \u001b[31m5.4 MB/s\u001b[0m eta \u001b[36m0:00:00\u001b[0m\n",
            "\u001b[2K   \u001b[90m━━━━━━━━━━━━━━━━━━━━━━━━━━━━━━━━━━━━━━━━\u001b[0m \u001b[32m44.4/44.4 kB\u001b[0m \u001b[31m2.6 MB/s\u001b[0m eta \u001b[36m0:00:00\u001b[0m\n",
            "\u001b[2K   \u001b[90m━━━━━━━━━━━━━━━━━━━━━━━━━━━━━━━━━━━━━━━━\u001b[0m \u001b[32m72.0/72.0 kB\u001b[0m \u001b[31m4.2 MB/s\u001b[0m eta \u001b[36m0:00:00\u001b[0m\n",
            "\u001b[2K   \u001b[90m━━━━━━━━━━━━━━━━━━━━━━━━━━━━━━━━━━━━━━━━\u001b[0m \u001b[32m62.5/62.5 kB\u001b[0m \u001b[31m3.5 MB/s\u001b[0m eta \u001b[36m0:00:00\u001b[0m\n",
            "\u001b[2K   \u001b[90m━━━━━━━━━━━━━━━━━━━━━━━━━━━━━━━━━━━━━━━━\u001b[0m \u001b[32m7.6/7.6 MB\u001b[0m \u001b[31m32.8 MB/s\u001b[0m eta \u001b[36m0:00:00\u001b[0m\n",
            "\u001b[2K   \u001b[90m━━━━━━━━━━━━━━━━━━━━━━━━━━━━━━━━━━━━━━━━\u001b[0m \u001b[32m1.2/1.2 MB\u001b[0m \u001b[31m36.7 MB/s\u001b[0m eta \u001b[36m0:00:00\u001b[0m\n",
            "\u001b[?25h"
          ]
        }
      ],
      "source": [
        "!pip install -Uq openai-agents\n",
        "!pip install -Uq openai-agents  \"openai-agents[litellm]\"\n"
      ]
    },
    {
      "cell_type": "code",
      "source": [
        "from google.colab import userdata\n",
        "import os\n",
        "api_key = os.environ[\"GOOGLE_API_KEY\"] = userdata.get('GOOGLE_API_KEY')\n"
      ],
      "metadata": {
        "id": "b-2u0N623eyM",
        "collapsed": true
      },
      "execution_count": null,
      "outputs": []
    },
    {
      "cell_type": "code",
      "source": [
        "import nest_asyncio\n",
        "nest_asyncio.apply()"
      ],
      "metadata": {
        "id": "XbxxDuxi5owd"
      },
      "execution_count": null,
      "outputs": []
    },
    {
      "cell_type": "code",
      "source": [
        "from agents import Agent , Runner , set_tracing_disabled\n",
        "from agents.extensions.models.litellm_model import LitellmModel\n",
        "\n",
        "set_tracing_disabled(disabled=True)\n",
        "MODEL = 'gemini/gemini-2.0-flash'\n"
      ],
      "metadata": {
        "id": "hl9k4Mh_Q8PV"
      },
      "execution_count": null,
      "outputs": []
    },
    {
      "cell_type": "code",
      "source": [
        "idea_gen = Agent(\n",
        "    name=\"Idea Generator\",\n",
        "    instructions=\"You suggest creative video ideas based on a topic.\",\n",
        "    handoff_description=\"to suggest creative video ideas based on a topic.\",\n",
        "    model=LitellmModel(model=MODEL,api_key=api_key),\n",
        ")\n",
        "\n",
        "\n",
        "\n",
        "content_writer = Agent(\n",
        "    name=\"Content Writer\",\n",
        "    instructions=\"You write a 100-word  script based on a selected idea.\",\n",
        "    handoff_description=\"to write a script based on an idea.\",\n",
        "    model=LitellmModel(model=MODEL,api_key=api_key)\n",
        ")\n",
        "\n",
        "\n",
        "manager = Agent(\n",
        "    name=\"Manager\",\n",
        "    instructions=\"You receive user input and hand it off to the correct agent based on the task — idea generation or content writing.\",\n",
        "    handoffs=[idea_gen, content_writer],\n",
        "    model=LitellmModel(model=MODEL,api_key=api_key)\n",
        ")\n",
        "\n",
        "\n",
        "async def main():\n",
        "  user_input = input(\"HI!\\n I am content suggestor and writer agent : \")\n",
        "  response = await Runner.run(manager, user_input)\n",
        "  print(response.last_agent)\n",
        "  print(response.final_output)\n",
        "\n",
        "await main()"
      ],
      "metadata": {
        "colab": {
          "base_uri": "https://localhost:8080/"
        },
        "id": "DIvyhVwd0p23",
        "outputId": "6d4c5df2-79da-4c15-85ad-9f3d05db0a14"
      },
      "execution_count": null,
      "outputs": [
        {
          "output_type": "stream",
          "name": "stdout",
          "text": [
            "HI!\n",
            " I am content suggestor and writer agent : \"I need 3 video ideas about self-improvement.\"  and \"Write a script for a video titled 'Wake Up at 5AM Challenge'.\"\n",
            "Agent(name='Idea Generator', instructions='You suggest creative video ideas based on a topic.', handoff_description='to suggest creative video ideas based on a topic.', handoffs=[], model=<agents.extensions.models.litellm_model.LitellmModel object at 0x7999875ff550>, model_settings=ModelSettings(temperature=None, top_p=None, frequency_penalty=None, presence_penalty=None, tool_choice=None, parallel_tool_calls=None, truncation=None, max_tokens=None, reasoning=None, metadata=None, store=None, include_usage=None, extra_query=None, extra_body=None, extra_headers=None), tools=[], mcp_servers=[], mcp_config={}, input_guardrails=[], output_guardrails=[], output_type=None, hooks=None, tool_use_behavior='run_llm_again', reset_tool_choice=True)\n",
            "Okay, here are 3 video ideas about self-improvement:\n",
            "\n",
            "1.  **\"Level Up Your Life: Implement One Small Change Each Week.\"** (Focus: Gradual improvement, consistency)\n",
            "    *   Concept: The video follows the creator as they commit to one small self-improvement change each week for a month (or longer). Examples include: drinking more water, meditating for 5 minutes daily, reading for 30 minutes, decluttering one area, or learning a new skill for 15 minutes.\n",
            "    *   Visuals: Before & after shots, time-lapses of progress, graphics tracking habits, and personal reflections.\n",
            "    *   Target Audience: People who feel overwhelmed by large self-improvement goals.\n",
            "\n",
            "2.  **\"Debunking Self-Improvement Myths (That Are Holding You Back).\"** (Focus: Critical thinking, realistic expectations)\n",
            "    *   Concept:  The video addresses common self-improvement myths, such as \"You need to be productive every second of the day,\" \"You have to be naturally talented to succeed,\" or \"Overnight transformations are possible.\"\n",
            "    *   Visuals: Animated explanations, expert interviews, real-life examples contradicting the myths, and statistics.\n",
            "    *   Target Audience: People who are frustrated with self-improvement advice that doesn't seem to work.\n",
            "\n",
            "3.  **\"Self-Improvement on a Budget: Free Resources and Practical Tips.\"** (Focus: Accessibility, resourcefulness)\n",
            "    *   Concept: This video showcases free or low-cost resources and practical tips for self-improvement in various areas (mental health, fitness, learning). Examples include free online courses, library resources, budget-friendly workout routines, and mindfulness apps.\n",
            "    *   Visuals: Screenshots of free resources, demonstrations of exercises, and practical tutorials.\n",
            "    *   Target Audience: Students, young adults, or anyone looking to improve themselves without spending a lot of money.\n",
            "\n",
            "Now, here's a script for a video titled \"Wake Up at 5AM Challenge\":\n",
            "\n",
            "**\\[SCENE START]**\n",
            "\n",
            "**(Intro - Upbeat Music and Energetic Visuals of a Sunrise)**\n",
            "\n",
            "**\\[0:00-0:15]**\n",
            "\n",
            "*   **Visuals:** Fast-paced montage of sunrises, healthy breakfasts, someone exercising, someone working productively.\n",
            "*   **Voiceover (Energetic and Enthusiastic):** \"Tired of feeling sluggish? Want to unlock your potential? Join me for the 5 AM Wake-Up Challenge! For the next [Number] days, I'm ditching the snooze button and rising before the sun to see if it really makes a difference. Let's find out if waking up early is the secret to a more productive and fulfilling life!\"\n",
            "\n",
            "**(Setting the Scene - Day 1, 4:50 AM)**\n",
            "\n",
            "**\\[0:15-0:30]**\n",
            "\n",
            "*   **Visuals:** Camera slowly pans across a dark bedroom. Alarm clock reads 4:50 AM.  The creator groans and reaches for the alarm.\n",
            "*   **Voiceover (Slightly Grumpy):** \"Okay, it's Day One. 4:50 AM.  Let's be honest, right now, I'm questioning all my life choices. But we made a commitment! Let's do this!\"\n",
            "\n",
            "**(First Week - The Struggle is Real)**\n",
            "\n",
            "**\\[0:30-1:30]**\n",
            "\n",
            "*   **Visuals:** Montage of the first few days.  Creator struggling to get out of bed, looking tired, making coffee, yawning a lot.  Include shots of what they are doing in the early morning (e.g., working, exercising, reading).\n",
            "*   **Voiceover (Honest and Relatable):** \"The first few days were *rough*.  Seriously rough.  My body was not happy.  I hit snooze… a lot.  But I kept reminding myself why I started this challenge. I wanted more time for [mention specific goals - e.g., writing, exercising, learning]. The key is to find something you're excited about to motivate you to get out of bed. I found a pre-made protein shake that made life easier. And my favorite part was exercising!\"\n",
            "*   **Text on Screen:** Tips for waking up early: \"Set an alarm across the room,\" \"Go to bed earlier,\" \"Have a reason to get up,\" \"Prepare the night before\"\n",
            "\n",
            "**(Finding the Rhythm - Week 2 and Beyond)**\n",
            "\n",
            "**\\[1:30-2:30]**\n",
            "\n",
            "*   **Visuals:** Creator looking more awake and energetic.  Showing a consistent morning routine. Shots of them achieving their goals.\n",
            "*   **Voiceover (More Positive and Encouraging):** \"After about a week, something started to shift.  My body adjusted. I actually started *enjoying* the quiet time in the morning. No distractions, just me and my goals. I was more focused, more productive, and felt like I had more control over my day.\"\n",
            "*   **Visuals:** Time-lapse of the creator working on a project.\n",
            "*   **Text on Screen:** Morning routine examples: \"Meditation,\" \"Journaling,\" \"Exercise,\" \"Planning your day\"\n",
            "\n",
            "**(The Benefits - What Changed?)**\n",
            "\n",
            "**\\[2:30-3:30]**\n",
            "\n",
            "*   **Visuals:**  Side-by-side comparisons of the creator before and after the challenge (if possible).  Shots of completed projects, healthy meals, and a sense of accomplishment.\n",
            "*   **Voiceover (Reflective and Insightful):** \"So, what were the real benefits?  I definitely felt more productive.  I accomplished [mention specific achievements]. I also felt less stressed and more in control.  Having that dedicated time for myself in the morning made a huge difference.  But it's not a magic bullet. It's not for everyone. It takes dedication and commitment.\"\n",
            "\n",
            "**(The Downsides - Be Honest)**\n",
            "\n",
            "**\\[3:30-4:00]**\n",
            "\n",
            "*   **Visuals:** Show moments of exhaustion, temptation to sleep in, and adjustments that had to be made.\n",
            "*   **Voiceover (Realistic and Balanced):** \"It wasn't all sunshine and roses. There were days when I was exhausted.  Social events were tougher.  I had to be really disciplined about going to bed early.  And sometimes, I just needed to sleep in! It's about finding what works for *you*.\"\n",
            "\n",
            "**(Conclusion - Would I Recommend It?)**\n",
            "\n",
            "**\\[4:00-4:30]**\n",
            "\n",
            "*   **Visuals:**  Creator smiling, confident, and energized.\n",
            "*   **Voiceover (Encouraging and Thought-Provoking):** \"So, would I recommend the 5 AM Wake-Up Challenge? Absolutely! But with a few caveats.  It's not about becoming a productivity robot.  It's about creating more time for what matters to you. Experiment, adjust, and find a morning routine that fits your lifestyle.  Are you willing to try it? Let me know in the comments below!\"\n",
            "\n",
            "**(Call to Action)**\n",
            "\n",
            "**\\[4:30-4:45]**\n",
            "\n",
            "*   **Visuals:** End screen with social media handles, links to related videos, and a call to subscribe.\n",
            "*   **Voiceover (Enthusiastic):** \"Thanks for watching!  Don't forget to like this video, subscribe for more self-improvement tips, and let me know if you're taking on the 5 AM challenge! Good luck!\"\n",
            "\n",
            "**(Outro - Upbeat Music fades out)**\n",
            "\n",
            "**\\[SCENE END]**\n",
            "\n",
            "**Important Notes for Script:**\n",
            "\n",
            "*   **Authenticity is Key:** The more genuine and relatable you are, the more viewers will connect with your content.\n",
            "*   **Visuals Matter:** Use high-quality visuals to keep viewers engaged.\n",
            "*   **Edit Tightly:** Keep the video concise and to the point.  Cut out any unnecessary footage.\n",
            "*   **Call to Action:**  Always ask viewers to like, subscribe, and comment.\n",
            "*   **Personalize:** Adapt the script to your own experiences and goals.\n",
            "*   **Sound Quality:** Make sure your audio is clear.\n",
            "\n"
          ]
        }
      ]
    },
    {
      "cell_type": "code",
      "source": [
        "from google.colab import drive\n",
        "drive.mount('/content/drive')"
      ],
      "metadata": {
        "colab": {
          "base_uri": "https://localhost:8080/"
        },
        "id": "SrqztqRsN9cs",
        "outputId": "a54ef140-6b22-4c43-941b-4f801aa6e463"
      },
      "execution_count": null,
      "outputs": [
        {
          "output_type": "stream",
          "name": "stdout",
          "text": [
            "Mounted at /content/drive\n"
          ]
        }
      ]
    }
  ]
}